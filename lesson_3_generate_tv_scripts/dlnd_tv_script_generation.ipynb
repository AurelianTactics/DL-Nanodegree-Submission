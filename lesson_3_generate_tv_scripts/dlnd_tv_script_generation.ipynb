{
 "cells": [
  {
   "cell_type": "markdown",
   "metadata": {
    "deletable": true,
    "editable": true
   },
   "source": [
    "# TV Script Generation\n",
    "In this project, you'll generate your own [Simpsons](https://en.wikipedia.org/wiki/The_Simpsons) TV scripts using RNNs.  You'll be using part of the [Simpsons dataset](https://www.kaggle.com/wcukierski/the-simpsons-by-the-data) of scripts from 27 seasons.  The Neural Network you'll build will generate a new TV script for a scene at [Moe's Tavern](https://simpsonswiki.com/wiki/Moe's_Tavern).\n",
    "## Get the Data\n",
    "The data is already provided for you.  You'll be using a subset of the original dataset.  It consists of only the scenes in Moe's Tavern.  This doesn't include other versions of the tavern, like \"Moe's Cavern\", \"Flaming Moe's\", \"Uncle Moe's Family Feed-Bag\", etc.."
   ]
  },
  {
   "cell_type": "code",
   "execution_count": 1,
   "metadata": {
    "collapsed": false,
    "deletable": true,
    "editable": true
   },
   "outputs": [],
   "source": [
    "\"\"\"\n",
    "DON'T MODIFY ANYTHING IN THIS CELL\n",
    "\"\"\"\n",
    "import helper\n",
    "\n",
    "data_dir = './data/simpsons/moes_tavern_lines.txt'\n",
    "text = helper.load_data(data_dir)\n",
    "# Ignore notice, since we don't use it for analysing the data\n",
    "text = text[81:]"
   ]
  },
  {
   "cell_type": "markdown",
   "metadata": {
    "deletable": true,
    "editable": true
   },
   "source": [
    "## Explore the Data\n",
    "Play around with `view_sentence_range` to view different parts of the data."
   ]
  },
  {
   "cell_type": "code",
   "execution_count": 3,
   "metadata": {
    "collapsed": false,
    "deletable": true,
    "editable": true
   },
   "outputs": [
    {
     "name": "stdout",
     "output_type": "stream",
     "text": [
      "Dataset Stats\n",
      "Roughly the number of unique words: 11492\n",
      "Number of scenes: 262\n",
      "Average number of sentences in each scene: 15.251908396946565\n",
      "Number of lines: 4258\n",
      "Average number of words in each line: 11.50164396430249\n",
      "\n",
      "The sentences 10 to 30:\n",
      "\n",
      "Moe_Szyslak: Ah, isn't that nice. Now, there is a politician who cares.\n",
      "Barney_Gumble: If I ever vote, it'll be for him. (BELCH)\n",
      "\n",
      "\n",
      "Barney_Gumble: Hey Homer, how's your neighbor's store doing?\n",
      "Homer_Simpson: Lousy. He just sits there all day. He'd have a great job if he didn't own the place. (CHUCKLES)\n",
      "Moe_Szyslak: (STRUGGLING WITH CORKSCREW) Crummy right-handed corkscrews! What does he sell?\n",
      "Homer_Simpson: Uh, well actually, Moe...\n",
      "HOMER_(CONT'D: I dunno.\n",
      "\n",
      "\n",
      "Moe_Szyslak: Looks like this is the end.\n",
      "Barney_Gumble: That's all right. I couldn't have led a richer life.\n",
      "Barney_Gumble: So the next time somebody tells you county folk are good, honest people, you can spit in their faces for me!\n",
      "Lisa_Simpson: I will, Mr. Gumbel. But if you'll excuse me, I'm profiling my dad for the school paper. I thought it would be neat to follow him around for a day to see what makes him tick.\n",
      "Barney_Gumble: Oh, that's sweet. I used to follow my dad to a lot of bars too. (BELCH)\n",
      "Moe_Szyslak: Here you go. One beer, one chocolate milk.\n",
      "Lisa_Simpson: Uh, excuse me, I have the chocolate milk.\n",
      "Moe_Szyslak: Oh.\n"
     ]
    }
   ],
   "source": [
    "view_sentence_range = (10, 30)\n",
    "\n",
    "\"\"\"\n",
    "DON'T MODIFY ANYTHING IN THIS CELL\n",
    "\"\"\"\n",
    "import numpy as np\n",
    "\n",
    "print('Dataset Stats')\n",
    "print('Roughly the number of unique words: {}'.format(len({word: None for word in text.split()})))\n",
    "scenes = text.split('\\n\\n')\n",
    "print('Number of scenes: {}'.format(len(scenes)))\n",
    "sentence_count_scene = [scene.count('\\n') for scene in scenes]\n",
    "print('Average number of sentences in each scene: {}'.format(np.average(sentence_count_scene)))\n",
    "\n",
    "sentences = [sentence for scene in scenes for sentence in scene.split('\\n')]\n",
    "print('Number of lines: {}'.format(len(sentences)))\n",
    "word_count_sentence = [len(sentence.split()) for sentence in sentences]\n",
    "print('Average number of words in each line: {}'.format(np.average(word_count_sentence)))\n",
    "\n",
    "print()\n",
    "print('The sentences {} to {}:'.format(*view_sentence_range))\n",
    "print('\\n'.join(text.split('\\n')[view_sentence_range[0]:view_sentence_range[1]]))"
   ]
  },
  {
   "cell_type": "markdown",
   "metadata": {
    "deletable": true,
    "editable": true
   },
   "source": [
    "## Implement Preprocessing Functions\n",
    "The first thing to do to any dataset is preprocessing.  Implement the following preprocessing functions below:\n",
    "- Lookup Table\n",
    "- Tokenize Punctuation\n",
    "\n",
    "### Lookup Table\n",
    "To create a word embedding, you first need to transform the words to ids.  In this function, create two dictionaries:\n",
    "- Dictionary to go from the words to an id, we'll call `vocab_to_int`\n",
    "- Dictionary to go from the id to word, we'll call `int_to_vocab`\n",
    "\n",
    "Return these dictionaries in the following tuple `(vocab_to_int, int_to_vocab)`"
   ]
  },
  {
   "cell_type": "code",
   "execution_count": 25,
   "metadata": {
    "collapsed": false,
    "deletable": true,
    "editable": true
   },
   "outputs": [
    {
     "name": "stdout",
     "output_type": "stream",
     "text": [
      "Tests Passed\n"
     ]
    }
   ],
   "source": [
    "import numpy as np\n",
    "import problem_unittests as tests\n",
    "from collections import Counter\n",
    "\n",
    "def create_lookup_tables(text):\n",
    "    \"\"\"\n",
    "    Create lookup tables for vocabulary\n",
    "    :param text: The text of tv scripts split into words\n",
    "    :return: A tuple of dicts (vocab_to_int, int_to_vocab)\n",
    "    \"\"\"\n",
    "    # TODO: Implement Function\n",
    "    word_counter = Counter(text)\n",
    "    temp_int = 0\n",
    "    vocab_to_int_dict = {}\n",
    "    int_to_vocab_dict = {}\n",
    "    for k in word_counter.keys():\n",
    "        vocab_to_int_dict[k] = temp_int\n",
    "        int_to_vocab_dict[temp_int] = k\n",
    "        temp_int += 1\n",
    "        \n",
    "    return vocab_to_int_dict, int_to_vocab_dict\n",
    "\n",
    "\n",
    "\"\"\"\n",
    "DON'T MODIFY ANYTHING IN THIS CELL THAT IS BELOW THIS LINE\n",
    "\"\"\"\n",
    "tests.test_create_lookup_tables(create_lookup_tables)"
   ]
  },
  {
   "cell_type": "markdown",
   "metadata": {
    "deletable": true,
    "editable": true
   },
   "source": [
    "### Tokenize Punctuation\n",
    "We'll be splitting the script into a word array using spaces as delimiters.  However, punctuations like periods and exclamation marks make it hard for the neural network to distinguish between the word \"bye\" and \"bye!\".\n",
    "\n",
    "Implement the function `token_lookup` to return a dict that will be used to tokenize symbols like \"!\" into \"||Exclamation_Mark||\".  Create a dictionary for the following symbols where the symbol is the key and value is the token:\n",
    "- Period ( . )\n",
    "- Comma ( , )\n",
    "- Quotation Mark ( \" )\n",
    "- Semicolon ( ; )\n",
    "- Exclamation mark ( ! )\n",
    "- Question mark ( ? )\n",
    "- Left Parentheses ( ( )\n",
    "- Right Parentheses ( ) )\n",
    "- Dash ( -- )\n",
    "- Return ( \\n )\n",
    "\n",
    "This dictionary will be used to token the symbols and add the delimiter (space) around it.  This separates the symbols as it's own word, making it easier for the neural network to predict on the next word. Make sure you don't use a token that could be confused as a word. Instead of using the token \"dash\", try using something like \"||dash||\"."
   ]
  },
  {
   "cell_type": "code",
   "execution_count": 34,
   "metadata": {
    "collapsed": false,
    "deletable": true,
    "editable": true
   },
   "outputs": [
    {
     "name": "stdout",
     "output_type": "stream",
     "text": [
      "Tests Passed\n"
     ]
    }
   ],
   "source": [
    "def token_lookup():\n",
    "    \"\"\"\n",
    "    Generate a dict to turn punctuation into a token.\n",
    "    :return: Tokenize dictionary where the key is the punctuation and the value is the token\n",
    "    \"\"\"\n",
    "    # TODO: Implement Function\n",
    "    ret_value = {}\n",
    "    ret_value['.'] =\"||Period||\"\n",
    "    ret_value[','] =\"||Comma||\"\n",
    "    ret_value['\"'] =\"||Quotation_Mark||\"\n",
    "    ret_value[';'] =\"||Semicolon||\"\n",
    "    ret_value['!'] =\"||Exclamation_Mark||\"\n",
    "    ret_value['?'] =\"||Question_Mark||\"\n",
    "    ret_value['('] =\"||Left_Parentheses||\"\n",
    "    ret_value[')'] =\"||Right_Parentheses||\"\n",
    "    ret_value['--'] =\"||Dash||\"\n",
    "    ret_value['\\n'] =\"||Return||\"\n",
    "    return ret_value\n",
    "\n",
    "\"\"\"\n",
    "DON'T MODIFY ANYTHING IN THIS CELL THAT IS BELOW THIS LINE\n",
    "\"\"\"\n",
    "tests.test_tokenize(token_lookup)"
   ]
  },
  {
   "cell_type": "markdown",
   "metadata": {
    "deletable": true,
    "editable": true
   },
   "source": [
    "## Preprocess all the data and save it\n",
    "Running the code cell below will preprocess all the data and save it to file."
   ]
  },
  {
   "cell_type": "code",
   "execution_count": 35,
   "metadata": {
    "collapsed": false,
    "deletable": true,
    "editable": true
   },
   "outputs": [],
   "source": [
    "\"\"\"\n",
    "DON'T MODIFY ANYTHING IN THIS CELL\n",
    "\"\"\"\n",
    "# Preprocess Training, Validation, and Testing Data\n",
    "helper.preprocess_and_save_data(data_dir, token_lookup, create_lookup_tables)"
   ]
  },
  {
   "cell_type": "markdown",
   "metadata": {
    "deletable": true,
    "editable": true
   },
   "source": [
    "# Check Point\n",
    "This is your first checkpoint. If you ever decide to come back to this notebook or have to restart the notebook, you can start from here. The preprocessed data has been saved to disk."
   ]
  },
  {
   "cell_type": "code",
   "execution_count": 36,
   "metadata": {
    "collapsed": false,
    "deletable": true,
    "editable": true
   },
   "outputs": [],
   "source": [
    "\"\"\"\n",
    "DON'T MODIFY ANYTHING IN THIS CELL\n",
    "\"\"\"\n",
    "import helper\n",
    "import numpy as np\n",
    "import problem_unittests as tests\n",
    "\n",
    "int_text, vocab_to_int, int_to_vocab, token_dict = helper.load_preprocess()"
   ]
  },
  {
   "cell_type": "markdown",
   "metadata": {
    "deletable": true,
    "editable": true
   },
   "source": [
    "## Build the Neural Network\n",
    "You'll build the components necessary to build a RNN by implementing the following functions below:\n",
    "- get_inputs\n",
    "- get_init_cell\n",
    "- get_embed\n",
    "- build_rnn\n",
    "- build_nn\n",
    "- get_batches\n",
    "\n",
    "### Check the Version of TensorFlow and Access to GPU"
   ]
  },
  {
   "cell_type": "code",
   "execution_count": 37,
   "metadata": {
    "collapsed": false
   },
   "outputs": [
    {
     "name": "stdout",
     "output_type": "stream",
     "text": [
      "TensorFlow Version: 1.1.0\n"
     ]
    },
    {
     "name": "stderr",
     "output_type": "stream",
     "text": [
      "C:\\Users\\Decoud\\Anaconda3\\lib\\site-packages\\ipykernel\\__main__.py:14: UserWarning: No GPU found. Please use a GPU to train your neural network.\n"
     ]
    }
   ],
   "source": [
    "\"\"\"\n",
    "DON'T MODIFY ANYTHING IN THIS CELL\n",
    "\"\"\"\n",
    "from distutils.version import LooseVersion\n",
    "import warnings\n",
    "import tensorflow as tf\n",
    "\n",
    "# Check TensorFlow Version\n",
    "assert LooseVersion(tf.__version__) >= LooseVersion('1.0'), 'Please use TensorFlow version 1.0 or newer'\n",
    "print('TensorFlow Version: {}'.format(tf.__version__))\n",
    "\n",
    "# Check for a GPU\n",
    "if not tf.test.gpu_device_name():\n",
    "    warnings.warn('No GPU found. Please use a GPU to train your neural network.')\n",
    "else:\n",
    "    print('Default GPU Device: {}'.format(tf.test.gpu_device_name()))"
   ]
  },
  {
   "cell_type": "markdown",
   "metadata": {},
   "source": [
    "### Input\n",
    "Implement the `get_inputs()` function to create TF Placeholders for the Neural Network.  It should create the following placeholders:\n",
    "- Input text placeholder named \"input\" using the [TF Placeholder](https://www.tensorflow.org/api_docs/python/tf/placeholder) `name` parameter.\n",
    "- Targets placeholder\n",
    "- Learning Rate placeholder\n",
    "\n",
    "Return the placeholders in the following tuple `(Input, Targets, LearningRate)`"
   ]
  },
  {
   "cell_type": "code",
   "execution_count": 164,
   "metadata": {
    "collapsed": false,
    "deletable": true,
    "editable": true
   },
   "outputs": [
    {
     "name": "stdout",
     "output_type": "stream",
     "text": [
      "Tests Passed\n"
     ]
    }
   ],
   "source": [
    "def get_inputs():\n",
    "    \"\"\"\n",
    "    Create TF Placeholders for input, targets, and learning rate.\n",
    "    :return: Tuple (input, targets, learning rate)\n",
    "    \"\"\"\n",
    "    # TODO: Implement Function\n",
    "    input_ = tf.placeholder(tf.int32,[None,None],name='input')\n",
    "    targets_ = tf.placeholder(tf.int32,[None,None],name='targets')\n",
    "    l_rate = tf.placeholder(tf.float32,name='learning_rate')\n",
    "    return input_, targets_, l_rate\n",
    "\n",
    "\n",
    "\"\"\"\n",
    "DON'T MODIFY ANYTHING IN THIS CELL THAT IS BELOW THIS LINE\n",
    "\"\"\"\n",
    "tests.test_get_inputs(get_inputs)"
   ]
  },
  {
   "cell_type": "markdown",
   "metadata": {
    "deletable": true,
    "editable": true
   },
   "source": [
    "### Build RNN Cell and Initialize\n",
    "Stack one or more [`BasicLSTMCells`](https://www.tensorflow.org/api_docs/python/tf/contrib/rnn/BasicLSTMCell) in a [`MultiRNNCell`](https://www.tensorflow.org/api_docs/python/tf/contrib/rnn/MultiRNNCell).\n",
    "- The Rnn size should be set using `rnn_size`\n",
    "- Initalize Cell State using the MultiRNNCell's [`zero_state()`](https://www.tensorflow.org/api_docs/python/tf/contrib/rnn/MultiRNNCell#zero_state) function\n",
    "    - Apply the name \"initial_state\" to the initial state using [`tf.identity()`](https://www.tensorflow.org/api_docs/python/tf/identity)\n",
    "\n",
    "Return the cell and initial state in the following tuple `(Cell, InitialState)`"
   ]
  },
  {
   "cell_type": "code",
   "execution_count": 191,
   "metadata": {
    "collapsed": false,
    "deletable": true,
    "editable": true
   },
   "outputs": [
    {
     "name": "stdout",
     "output_type": "stream",
     "text": [
      "Tests Passed\n"
     ]
    }
   ],
   "source": [
    "def get_init_cell(batch_size, rnn_size):\n",
    "    \"\"\"\n",
    "    Create an RNN Cell and initialize it.\n",
    "    :param batch_size: Size of batches\n",
    "    :param rnn_size: Size of RNNs\n",
    "    :return: Tuple (cell, initialize state)\n",
    "    \"\"\"\n",
    "    # TODO: Implement Function\n",
    "    #lstm = tf.contrib.rnn.BasicLSTMCell(rnn_size,reuse=tf.get_variable_scope().reuse)\n",
    "    #cell = tf.contrib.rnn.MultiRNNCell([lstm]*2)\n",
    "    #cell = tf.contrib.rnn.MultiRNNCell([lstm]) \n",
    "    # MultiRNNCell([BasicLSTMCell(...) for _ in range(num_layers)])\n",
    "    num_layers = 1\n",
    "    cell = tf.contrib.rnn.MultiRNNCell([tf.contrib.rnn.BasicLSTMCell(rnn_size) for _ in range(num_layers)])\n",
    "    initial_state = cell.zero_state(batch_size,tf.float32)\n",
    "    initial_state = tf.identity(initial_state,name='initial_state')\n",
    "    return cell, initial_state\n",
    "\n",
    "\n",
    "\"\"\"\n",
    "DON'T MODIFY ANYTHING IN THIS CELL THAT IS BELOW THIS LINE\n",
    "\"\"\"\n",
    "tests.test_get_init_cell(get_init_cell)"
   ]
  },
  {
   "cell_type": "markdown",
   "metadata": {
    "deletable": true,
    "editable": true
   },
   "source": [
    "### Word Embedding\n",
    "Apply embedding to `input_data` using TensorFlow.  Return the embedded sequence."
   ]
  },
  {
   "cell_type": "code",
   "execution_count": 52,
   "metadata": {
    "collapsed": false,
    "deletable": true,
    "editable": true
   },
   "outputs": [
    {
     "name": "stdout",
     "output_type": "stream",
     "text": [
      "Tests Passed\n"
     ]
    }
   ],
   "source": [
    "def get_embed(input_data, vocab_size, embed_dim):\n",
    "    \"\"\"\n",
    "    Create embedding for <input_data>.\n",
    "    :param input_data: TF placeholder for text input.\n",
    "    :param vocab_size: Number of words in vocabulary.\n",
    "    :param embed_dim: Number of embedding dimensions\n",
    "    :return: Embedded input.\n",
    "    \"\"\"\n",
    "    # TODO: Implement Function\n",
    "    embeddings = tf.Variable(tf.random_uniform([vocab_size,embed_dim],-1,1))\n",
    "    embed = tf.nn.embedding_lookup(embeddings,input_data)\n",
    "    return embed\n",
    "\n",
    "\n",
    "\"\"\"\n",
    "DON'T MODIFY ANYTHING IN THIS CELL THAT IS BELOW THIS LINE\n",
    "\"\"\"\n",
    "tests.test_get_embed(get_embed)"
   ]
  },
  {
   "cell_type": "markdown",
   "metadata": {
    "deletable": true,
    "editable": true
   },
   "source": [
    "### Build RNN\n",
    "You created a RNN Cell in the `get_init_cell()` function.  Time to use the cell to create a RNN.\n",
    "- Build the RNN using the [`tf.nn.dynamic_rnn()`](https://www.tensorflow.org/api_docs/python/tf/nn/dynamic_rnn)\n",
    " - Apply the name \"final_state\" to the final state using [`tf.identity()`](https://www.tensorflow.org/api_docs/python/tf/identity)\n",
    "\n",
    "Return the outputs and final_state state in the following tuple `(Outputs, FinalState)` "
   ]
  },
  {
   "cell_type": "code",
   "execution_count": 59,
   "metadata": {
    "collapsed": false,
    "deletable": true,
    "editable": true
   },
   "outputs": [
    {
     "name": "stdout",
     "output_type": "stream",
     "text": [
      "Tests Passed\n"
     ]
    }
   ],
   "source": [
    "def build_rnn(cell, inputs):\n",
    "    \"\"\"\n",
    "    Create a RNN using a RNN Cell\n",
    "    :param cell: RNN Cell\n",
    "    :param inputs: Input text data\n",
    "    :return: Tuple (Outputs, Final State)\n",
    "    \"\"\"\n",
    "    # TODO: Implement Function\n",
    "    outputs, final_state = tf.nn.dynamic_rnn(cell,inputs,dtype=tf.float32)\n",
    "    final_state = tf.identity(final_state,name='final_state')\n",
    "    return outputs, final_state \n",
    "\n",
    "\n",
    "\"\"\"\n",
    "DON'T MODIFY ANYTHING IN THIS CELL THAT IS BELOW THIS LINE\n",
    "\"\"\"\n",
    "tests.test_build_rnn(build_rnn)"
   ]
  },
  {
   "cell_type": "markdown",
   "metadata": {
    "deletable": true,
    "editable": true
   },
   "source": [
    "### Build the Neural Network\n",
    "Apply the functions you implemented above to:\n",
    "- Apply embedding to `input_data` using your `get_embed(input_data, vocab_size, embed_dim)` function.\n",
    "- Build RNN using `cell` and your `build_rnn(cell, inputs)` function.\n",
    "- Apply a fully connected layer with a linear activation and `vocab_size` as the number of outputs.\n",
    "\n",
    "Return the logits and final state in the following tuple (Logits, FinalState) "
   ]
  },
  {
   "cell_type": "code",
   "execution_count": 65,
   "metadata": {
    "collapsed": false,
    "deletable": true,
    "editable": true
   },
   "outputs": [
    {
     "name": "stdout",
     "output_type": "stream",
     "text": [
      "Tests Passed\n"
     ]
    }
   ],
   "source": [
    "def build_nn(cell, rnn_size, input_data, vocab_size, embed_dim):\n",
    "    \"\"\"\n",
    "    Build part of the neural network\n",
    "    :param cell: RNN cell\n",
    "    :param rnn_size: Size of rnns\n",
    "    :param input_data: Input data\n",
    "    :param vocab_size: Vocabulary size\n",
    "    :param embed_dim: Number of embedding dimensions\n",
    "    :return: Tuple (Logits, FinalState)\n",
    "    \"\"\"\n",
    "    # TODO: Implement Function\n",
    "    embed = get_embed(input_data,vocab_size,embed_dim)\n",
    "    outputs, final_state = build_rnn(cell,embed)\n",
    "    logits = tf.contrib.layers.fully_connected(outputs,vocab_size,activation_fn=None) #defaults to ReLU, set to None for linear\n",
    "    return logits,final_state\n",
    "\n",
    "\n",
    "\"\"\"\n",
    "DON'T MODIFY ANYTHING IN THIS CELL THAT IS BELOW THIS LINE\n",
    "\"\"\"\n",
    "tests.test_build_nn(build_nn)"
   ]
  },
  {
   "cell_type": "markdown",
   "metadata": {
    "deletable": true,
    "editable": true
   },
   "source": [
    "### Batches\n",
    "Implement `get_batches` to create batches of input and targets using `int_text`.  The batches should be a Numpy array with the shape `(number of batches, 2, batch size, sequence length)`. Each batch contains two elements:\n",
    "- The first element is a single batch of **input** with the shape `[batch size, sequence length]`\n",
    "- The second element is a single batch of **targets** with the shape `[batch size, sequence length]`\n",
    "\n",
    "If you can't fill the last batch with enough data, drop the last batch.\n",
    "\n",
    "For exmple, `get_batches([1, 2, 3, 4, 5, 6, 7, 8, 9, 10, 11, 12, 13, 14, 15, 16, 17, 18, 19, 20], 3, 2)` would return a Numpy array of the following:\n",
    "```\n",
    "[\n",
    "  # First Batch\n",
    "  [\n",
    "    # Batch of Input\n",
    "    [[ 1  2], [ 7  8], [13 14]]\n",
    "    # Batch of targets\n",
    "    [[ 2  3], [ 8  9], [14 15]]\n",
    "  ]\n",
    "\n",
    "  # Second Batch\n",
    "  [\n",
    "    # Batch of Input\n",
    "    [[ 3  4], [ 9 10], [15 16]]\n",
    "    # Batch of targets\n",
    "    [[ 4  5], [10 11], [16 17]]\n",
    "  ]\n",
    "\n",
    "  # Third Batch\n",
    "  [\n",
    "    # Batch of Input\n",
    "    [[ 5  6], [11 12], [17 18]]\n",
    "    # Batch of targets\n",
    "    [[ 6  7], [12 13], [18  1]]\n",
    "  ]\n",
    "]\n",
    "```\n",
    "\n",
    "Notice that the last target value in the last batch is the first input value of the first batch. In this case, `1`. This is a common technique used when creating sequence batches, although it is rather unintuitive."
   ]
  },
  {
   "cell_type": "code",
   "execution_count": 147,
   "metadata": {
    "collapsed": false,
    "deletable": true,
    "editable": true
   },
   "outputs": [
    {
     "name": "stdout",
     "output_type": "stream",
     "text": [
      "Tests Passed\n"
     ]
    }
   ],
   "source": [
    "def get_batches(int_text, batch_size, seq_length):\n",
    "    \"\"\"\n",
    "    Return batches of input and target\n",
    "    :param int_text: Text with the words replaced by their ids\n",
    "    :param batch_size: The size of batch\n",
    "    :param seq_length: The length of sequence\n",
    "    :return: Batches as a Numpy array\n",
    "    \"\"\"\n",
    "    # TODO: Implement Function\n",
    "    num_batches = len(int_text)//(batch_size*seq_length) #get number of batches\n",
    "    #print(len(int_text))\n",
    "    int_text = int_text[:num_batches*batch_size*seq_length] #only want full batches\n",
    "    #print(len(int_text),num_batches,batch_size,seq_length)\n",
    "    batches = np.zeros([num_batches,2,batch_size,seq_length],dtype=np.int32)#np.array([num_batches,2,batch_size,seq_length])\n",
    "    #print(np.shape(batches))\n",
    "    #print(batches[0,0,0])\n",
    "    temp_inputs = np.zeros([batch_size,seq_length],dtype=np.int32)\n",
    "    #print(np.shape(temp_inputs))\n",
    "    temp_labels = np.zeros([batch_size,seq_length],dtype=np.int32)\n",
    "    \n",
    "    for i in range(num_batches):\n",
    "        #print(batch_size)\n",
    "        for j in range(batch_size):\n",
    "            \n",
    "            index_start = j*(num_batches*seq_length) + i*seq_length\n",
    "            index_end = j*(num_batches*seq_length) + i*seq_length + seq_length\n",
    "            test = np.array(int_text[index_start:index_end])\n",
    "            #print(int_text[index_start:index_end],index_start,index_end)\n",
    "            temp_inputs[j,:] = np.array(int_text[index_start:index_end])\n",
    "            #exception for the very last entry of labels being the very first value of int_text\n",
    "            if i == num_batches - 1 and j == batch_size - 1:\n",
    "                temp_array = np.array(int_text[index_start+1:index_end])\n",
    "                temp_array = np.append(temp_array,int_text[0])\n",
    "                temp_labels[j,:] = temp_array\n",
    "            else:\n",
    "                temp_labels[j,:] = np.array(int_text[index_start+1:index_end+1])\n",
    "        batches[i,0,:,:] = temp_inputs\n",
    "        batches[i,1,:,:] = temp_labels\n",
    "        \n",
    "    return batches\n",
    "\n",
    "\n",
    "\"\"\"\n",
    "DON'T MODIFY ANYTHING IN THIS CELL THAT IS BELOW THIS LINE\n",
    "\"\"\"\n",
    "tests.test_get_batches(get_batches)"
   ]
  },
  {
   "cell_type": "code",
   "execution_count": 152,
   "metadata": {
    "collapsed": false
   },
   "outputs": [],
   "source": [
    "#get_batches([1, 2, 3, 4, 5, 6, 7, 8, 9, 10, 11, 12, 13, 14, 15, 16, 17, 18, 19, 20], 3, 2)\n",
    "#get_batches([1, 2, 3, 4, 5, 6, 7, 8, 9, 10, 11, 12, 13,14,15], 2, 3)\n",
    "#len(int_text) % (batch_size*seq_length) == 0"
   ]
  },
  {
   "cell_type": "code",
   "execution_count": null,
   "metadata": {
    "collapsed": true
   },
   "outputs": [],
   "source": [
    "#test = np.zeros([3,2,4,5])\n",
    "#test[0,0,:,:] = np.ones([4,5])\n",
    "#print(test)\n",
    "#print(test)"
   ]
  },
  {
   "cell_type": "markdown",
   "metadata": {
    "deletable": true,
    "editable": true
   },
   "source": [
    "## Neural Network Training\n",
    "### Hyperparameters\n",
    "Tune the following parameters:\n",
    "\n",
    "- Set `num_epochs` to the number of epochs.\n",
    "- Set `batch_size` to the batch size.\n",
    "- Set `rnn_size` to the size of the RNNs.\n",
    "- Set `embed_dim` to the size of the embedding.\n",
    "- Set `seq_length` to the length of sequence.\n",
    "- Set `learning_rate` to the learning rate.\n",
    "- Set `show_every_n_batches` to the number of batches the neural network should print progress."
   ]
  },
  {
   "cell_type": "code",
   "execution_count": 192,
   "metadata": {
    "collapsed": true,
    "deletable": true,
    "editable": true
   },
   "outputs": [],
   "source": [
    "# Number of Epochs\n",
    "num_epochs = 100\n",
    "# Batch Size\n",
    "batch_size = 128\n",
    "# RNN Size\n",
    "rnn_size = 256\n",
    "# Embedding Dimension Size\n",
    "embed_dim = 300\n",
    "# Sequence Length\n",
    "seq_length = 12\n",
    "# Learning Rate\n",
    "learning_rate = 0.003\n",
    "# Show stats for every n number of batches\n",
    "show_every_n_batches = 10\n",
    "\n",
    "\"\"\"\n",
    "DON'T MODIFY ANYTHING IN THIS CELL THAT IS BELOW THIS LINE\n",
    "\"\"\"\n",
    "save_dir = './save'"
   ]
  },
  {
   "cell_type": "markdown",
   "metadata": {
    "deletable": true,
    "editable": true
   },
   "source": [
    "### Build the Graph\n",
    "Build the graph using the neural network you implemented."
   ]
  },
  {
   "cell_type": "code",
   "execution_count": 193,
   "metadata": {
    "collapsed": false,
    "deletable": true,
    "editable": true
   },
   "outputs": [],
   "source": [
    "\"\"\"\n",
    "DON'T MODIFY ANYTHING IN THIS CELL\n",
    "\"\"\"\n",
    "from tensorflow.contrib import seq2seq\n",
    "\n",
    "train_graph = tf.Graph()\n",
    "with train_graph.as_default():\n",
    "    vocab_size = len(int_to_vocab)\n",
    "    input_text, targets, lr = get_inputs()\n",
    "    input_data_shape = tf.shape(input_text)\n",
    "    cell, initial_state = get_init_cell(input_data_shape[0], rnn_size)\n",
    "    logits, final_state = build_nn(cell, rnn_size, input_text, vocab_size, embed_dim)\n",
    "\n",
    "    # Probabilities for generating words\n",
    "    probs = tf.nn.softmax(logits, name='probs')\n",
    "\n",
    "    # Loss function\n",
    "    cost = seq2seq.sequence_loss(\n",
    "        logits,\n",
    "        targets,\n",
    "        tf.ones([input_data_shape[0], input_data_shape[1]]))\n",
    "\n",
    "    # Optimizer\n",
    "    optimizer = tf.train.AdamOptimizer(lr)\n",
    "\n",
    "    # Gradient Clipping\n",
    "    gradients = optimizer.compute_gradients(cost)\n",
    "    capped_gradients = [(tf.clip_by_value(grad, -1., 1.), var) for grad, var in gradients if grad is not None]\n",
    "    train_op = optimizer.apply_gradients(capped_gradients)"
   ]
  },
  {
   "cell_type": "markdown",
   "metadata": {
    "deletable": true,
    "editable": true
   },
   "source": [
    "## Train\n",
    "Train the neural network on the preprocessed data.  If you have a hard time getting a good loss, check the [forms](https://discussions.udacity.com/) to see if anyone is having the same problem."
   ]
  },
  {
   "cell_type": "code",
   "execution_count": 194,
   "metadata": {
    "collapsed": false,
    "deletable": true,
    "editable": true
   },
   "outputs": [
    {
     "name": "stdout",
     "output_type": "stream",
     "text": [
      "Epoch   0 Batch    0/44   train_loss = 8.822\n",
      "Epoch   0 Batch   10/44   train_loss = 6.699\n",
      "Epoch   0 Batch   20/44   train_loss = 6.434\n",
      "Epoch   0 Batch   30/44   train_loss = 6.290\n",
      "Epoch   0 Batch   40/44   train_loss = 5.972\n",
      "Epoch   1 Batch    6/44   train_loss = 5.528\n",
      "Epoch   1 Batch   16/44   train_loss = 5.505\n",
      "Epoch   1 Batch   26/44   train_loss = 5.300\n",
      "Epoch   1 Batch   36/44   train_loss = 5.315\n",
      "Epoch   2 Batch    2/44   train_loss = 4.918\n",
      "Epoch   2 Batch   12/44   train_loss = 4.971\n",
      "Epoch   2 Batch   22/44   train_loss = 4.932\n",
      "Epoch   2 Batch   32/44   train_loss = 4.881\n",
      "Epoch   2 Batch   42/44   train_loss = 4.877\n",
      "Epoch   3 Batch    8/44   train_loss = 4.769\n",
      "Epoch   3 Batch   18/44   train_loss = 4.723\n",
      "Epoch   3 Batch   28/44   train_loss = 4.688\n",
      "Epoch   3 Batch   38/44   train_loss = 4.573\n",
      "Epoch   4 Batch    4/44   train_loss = 4.380\n",
      "Epoch   4 Batch   14/44   train_loss = 4.649\n",
      "Epoch   4 Batch   24/44   train_loss = 4.439\n",
      "Epoch   4 Batch   34/44   train_loss = 4.379\n",
      "Epoch   5 Batch    0/44   train_loss = 4.168\n",
      "Epoch   5 Batch   10/44   train_loss = 4.406\n",
      "Epoch   5 Batch   20/44   train_loss = 4.215\n",
      "Epoch   5 Batch   30/44   train_loss = 4.262\n",
      "Epoch   5 Batch   40/44   train_loss = 4.200\n",
      "Epoch   6 Batch    6/44   train_loss = 4.087\n",
      "Epoch   6 Batch   16/44   train_loss = 4.053\n",
      "Epoch   6 Batch   26/44   train_loss = 3.932\n",
      "Epoch   6 Batch   36/44   train_loss = 4.078\n",
      "Epoch   7 Batch    2/44   train_loss = 3.797\n",
      "Epoch   7 Batch   12/44   train_loss = 3.882\n",
      "Epoch   7 Batch   22/44   train_loss = 3.870\n",
      "Epoch   7 Batch   32/44   train_loss = 3.787\n",
      "Epoch   7 Batch   42/44   train_loss = 3.754\n",
      "Epoch   8 Batch    8/44   train_loss = 3.794\n",
      "Epoch   8 Batch   18/44   train_loss = 3.805\n",
      "Epoch   8 Batch   28/44   train_loss = 3.696\n",
      "Epoch   8 Batch   38/44   train_loss = 3.608\n",
      "Epoch   9 Batch    4/44   train_loss = 3.508\n",
      "Epoch   9 Batch   14/44   train_loss = 3.692\n",
      "Epoch   9 Batch   24/44   train_loss = 3.515\n",
      "Epoch   9 Batch   34/44   train_loss = 3.471\n",
      "Epoch  10 Batch    0/44   train_loss = 3.345\n",
      "Epoch  10 Batch   10/44   train_loss = 3.544\n",
      "Epoch  10 Batch   20/44   train_loss = 3.378\n",
      "Epoch  10 Batch   30/44   train_loss = 3.415\n",
      "Epoch  10 Batch   40/44   train_loss = 3.353\n",
      "Epoch  11 Batch    6/44   train_loss = 3.313\n",
      "Epoch  11 Batch   16/44   train_loss = 3.301\n",
      "Epoch  11 Batch   26/44   train_loss = 3.171\n",
      "Epoch  11 Batch   36/44   train_loss = 3.328\n",
      "Epoch  12 Batch    2/44   train_loss = 3.131\n",
      "Epoch  12 Batch   12/44   train_loss = 3.196\n",
      "Epoch  12 Batch   22/44   train_loss = 3.187\n",
      "Epoch  12 Batch   32/44   train_loss = 3.090\n",
      "Epoch  12 Batch   42/44   train_loss = 3.026\n",
      "Epoch  13 Batch    8/44   train_loss = 3.091\n",
      "Epoch  13 Batch   18/44   train_loss = 3.112\n",
      "Epoch  13 Batch   28/44   train_loss = 3.013\n",
      "Epoch  13 Batch   38/44   train_loss = 2.927\n",
      "Epoch  14 Batch    4/44   train_loss = 2.902\n",
      "Epoch  14 Batch   14/44   train_loss = 2.963\n",
      "Epoch  14 Batch   24/44   train_loss = 2.856\n",
      "Epoch  14 Batch   34/44   train_loss = 2.851\n",
      "Epoch  15 Batch    0/44   train_loss = 2.759\n",
      "Epoch  15 Batch   10/44   train_loss = 2.854\n",
      "Epoch  15 Batch   20/44   train_loss = 2.781\n",
      "Epoch  15 Batch   30/44   train_loss = 2.834\n",
      "Epoch  15 Batch   40/44   train_loss = 2.759\n",
      "Epoch  16 Batch    6/44   train_loss = 2.764\n",
      "Epoch  16 Batch   16/44   train_loss = 2.765\n",
      "Epoch  16 Batch   26/44   train_loss = 2.644\n",
      "Epoch  16 Batch   36/44   train_loss = 2.793\n",
      "Epoch  17 Batch    2/44   train_loss = 2.654\n",
      "Epoch  17 Batch   12/44   train_loss = 2.674\n",
      "Epoch  17 Batch   22/44   train_loss = 2.684\n",
      "Epoch  17 Batch   32/44   train_loss = 2.579\n",
      "Epoch  17 Batch   42/44   train_loss = 2.519\n",
      "Epoch  18 Batch    8/44   train_loss = 2.565\n",
      "Epoch  18 Batch   18/44   train_loss = 2.604\n",
      "Epoch  18 Batch   28/44   train_loss = 2.527\n",
      "Epoch  18 Batch   38/44   train_loss = 2.461\n",
      "Epoch  19 Batch    4/44   train_loss = 2.460\n",
      "Epoch  19 Batch   14/44   train_loss = 2.438\n",
      "Epoch  19 Batch   24/44   train_loss = 2.395\n",
      "Epoch  19 Batch   34/44   train_loss = 2.410\n",
      "Epoch  20 Batch    0/44   train_loss = 2.327\n",
      "Epoch  20 Batch   10/44   train_loss = 2.408\n",
      "Epoch  20 Batch   20/44   train_loss = 2.344\n",
      "Epoch  20 Batch   30/44   train_loss = 2.366\n",
      "Epoch  20 Batch   40/44   train_loss = 2.326\n",
      "Epoch  21 Batch    6/44   train_loss = 2.322\n",
      "Epoch  21 Batch   16/44   train_loss = 2.333\n",
      "Epoch  21 Batch   26/44   train_loss = 2.224\n",
      "Epoch  21 Batch   36/44   train_loss = 2.340\n",
      "Epoch  22 Batch    2/44   train_loss = 2.254\n",
      "Epoch  22 Batch   12/44   train_loss = 2.275\n",
      "Epoch  22 Batch   22/44   train_loss = 2.262\n",
      "Epoch  22 Batch   32/44   train_loss = 2.157\n",
      "Epoch  22 Batch   42/44   train_loss = 2.125\n",
      "Epoch  23 Batch    8/44   train_loss = 2.128\n",
      "Epoch  23 Batch   18/44   train_loss = 2.205\n",
      "Epoch  23 Batch   28/44   train_loss = 2.080\n",
      "Epoch  23 Batch   38/44   train_loss = 2.079\n",
      "Epoch  24 Batch    4/44   train_loss = 2.074\n",
      "Epoch  24 Batch   14/44   train_loss = 2.021\n",
      "Epoch  24 Batch   24/44   train_loss = 2.035\n",
      "Epoch  24 Batch   34/44   train_loss = 2.012\n",
      "Epoch  25 Batch    0/44   train_loss = 1.975\n",
      "Epoch  25 Batch   10/44   train_loss = 1.991\n",
      "Epoch  25 Batch   20/44   train_loss = 1.991\n",
      "Epoch  25 Batch   30/44   train_loss = 1.972\n",
      "Epoch  25 Batch   40/44   train_loss = 1.938\n",
      "Epoch  26 Batch    6/44   train_loss = 1.958\n",
      "Epoch  26 Batch   16/44   train_loss = 1.938\n",
      "Epoch  26 Batch   26/44   train_loss = 1.860\n",
      "Epoch  26 Batch   36/44   train_loss = 1.960\n",
      "Epoch  27 Batch    2/44   train_loss = 1.917\n",
      "Epoch  27 Batch   12/44   train_loss = 1.910\n",
      "Epoch  27 Batch   22/44   train_loss = 1.868\n",
      "Epoch  27 Batch   32/44   train_loss = 1.798\n",
      "Epoch  27 Batch   42/44   train_loss = 1.778\n",
      "Epoch  28 Batch    8/44   train_loss = 1.780\n",
      "Epoch  28 Batch   18/44   train_loss = 1.811\n",
      "Epoch  28 Batch   28/44   train_loss = 1.720\n",
      "Epoch  28 Batch   38/44   train_loss = 1.748\n",
      "Epoch  29 Batch    4/44   train_loss = 1.745\n",
      "Epoch  29 Batch   14/44   train_loss = 1.676\n",
      "Epoch  29 Batch   24/44   train_loss = 1.652\n",
      "Epoch  29 Batch   34/44   train_loss = 1.663\n",
      "Epoch  30 Batch    0/44   train_loss = 1.629\n",
      "Epoch  30 Batch   10/44   train_loss = 1.656\n",
      "Epoch  30 Batch   20/44   train_loss = 1.666\n",
      "Epoch  30 Batch   30/44   train_loss = 1.593\n",
      "Epoch  30 Batch   40/44   train_loss = 1.605\n",
      "Epoch  31 Batch    6/44   train_loss = 1.627\n",
      "Epoch  31 Batch   16/44   train_loss = 1.606\n",
      "Epoch  31 Batch   26/44   train_loss = 1.565\n",
      "Epoch  31 Batch   36/44   train_loss = 1.648\n",
      "Epoch  32 Batch    2/44   train_loss = 1.618\n",
      "Epoch  32 Batch   12/44   train_loss = 1.593\n",
      "Epoch  32 Batch   22/44   train_loss = 1.577\n",
      "Epoch  32 Batch   32/44   train_loss = 1.503\n",
      "Epoch  32 Batch   42/44   train_loss = 1.477\n",
      "Epoch  33 Batch    8/44   train_loss = 1.472\n",
      "Epoch  33 Batch   18/44   train_loss = 1.536\n",
      "Epoch  33 Batch   28/44   train_loss = 1.433\n",
      "Epoch  33 Batch   38/44   train_loss = 1.459\n",
      "Epoch  34 Batch    4/44   train_loss = 1.482\n",
      "Epoch  34 Batch   14/44   train_loss = 1.397\n",
      "Epoch  34 Batch   24/44   train_loss = 1.386\n",
      "Epoch  34 Batch   34/44   train_loss = 1.427\n",
      "Epoch  35 Batch    0/44   train_loss = 1.386\n",
      "Epoch  35 Batch   10/44   train_loss = 1.378\n",
      "Epoch  35 Batch   20/44   train_loss = 1.402\n",
      "Epoch  35 Batch   30/44   train_loss = 1.317\n",
      "Epoch  35 Batch   40/44   train_loss = 1.365\n",
      "Epoch  36 Batch    6/44   train_loss = 1.382\n",
      "Epoch  36 Batch   16/44   train_loss = 1.329\n",
      "Epoch  36 Batch   26/44   train_loss = 1.332\n",
      "Epoch  36 Batch   36/44   train_loss = 1.414\n",
      "Epoch  37 Batch    2/44   train_loss = 1.406\n",
      "Epoch  37 Batch   12/44   train_loss = 1.356\n",
      "Epoch  37 Batch   22/44   train_loss = 1.333\n",
      "Epoch  37 Batch   32/44   train_loss = 1.281\n",
      "Epoch  37 Batch   42/44   train_loss = 1.240\n",
      "Epoch  38 Batch    8/44   train_loss = 1.249\n",
      "Epoch  38 Batch   18/44   train_loss = 1.311\n",
      "Epoch  38 Batch   28/44   train_loss = 1.213\n",
      "Epoch  38 Batch   38/44   train_loss = 1.251\n",
      "Epoch  39 Batch    4/44   train_loss = 1.257\n",
      "Epoch  39 Batch   14/44   train_loss = 1.158\n",
      "Epoch  39 Batch   24/44   train_loss = 1.177\n",
      "Epoch  39 Batch   34/44   train_loss = 1.203\n",
      "Epoch  40 Batch    0/44   train_loss = 1.164\n",
      "Epoch  40 Batch   10/44   train_loss = 1.183\n",
      "Epoch  40 Batch   20/44   train_loss = 1.199\n",
      "Epoch  40 Batch   30/44   train_loss = 1.113\n",
      "Epoch  40 Batch   40/44   train_loss = 1.137\n",
      "Epoch  41 Batch    6/44   train_loss = 1.145\n",
      "Epoch  41 Batch   16/44   train_loss = 1.107\n",
      "Epoch  41 Batch   26/44   train_loss = 1.139\n",
      "Epoch  41 Batch   36/44   train_loss = 1.175\n",
      "Epoch  42 Batch    2/44   train_loss = 1.150\n",
      "Epoch  42 Batch   12/44   train_loss = 1.115\n",
      "Epoch  42 Batch   22/44   train_loss = 1.110\n",
      "Epoch  42 Batch   32/44   train_loss = 1.064\n",
      "Epoch  42 Batch   42/44   train_loss = 1.034\n",
      "Epoch  43 Batch    8/44   train_loss = 1.033\n",
      "Epoch  43 Batch   18/44   train_loss = 1.053\n",
      "Epoch  43 Batch   28/44   train_loss = 1.009\n",
      "Epoch  43 Batch   38/44   train_loss = 1.050\n",
      "Epoch  44 Batch    4/44   train_loss = 1.044\n",
      "Epoch  44 Batch   14/44   train_loss = 0.983\n",
      "Epoch  44 Batch   24/44   train_loss = 0.966\n",
      "Epoch  44 Batch   34/44   train_loss = 1.002\n",
      "Epoch  45 Batch    0/44   train_loss = 0.972\n",
      "Epoch  45 Batch   10/44   train_loss = 0.982\n",
      "Epoch  45 Batch   20/44   train_loss = 0.985\n",
      "Epoch  45 Batch   30/44   train_loss = 0.926\n",
      "Epoch  45 Batch   40/44   train_loss = 0.953\n",
      "Epoch  46 Batch    6/44   train_loss = 0.973\n",
      "Epoch  46 Batch   16/44   train_loss = 0.950\n",
      "Epoch  46 Batch   26/44   train_loss = 0.950\n",
      "Epoch  46 Batch   36/44   train_loss = 0.991\n",
      "Epoch  47 Batch    2/44   train_loss = 0.968\n",
      "Epoch  47 Batch   12/44   train_loss = 0.953\n",
      "Epoch  47 Batch   22/44   train_loss = 0.955\n",
      "Epoch  47 Batch   32/44   train_loss = 0.879\n",
      "Epoch  47 Batch   42/44   train_loss = 0.856\n",
      "Epoch  48 Batch    8/44   train_loss = 0.880\n",
      "Epoch  48 Batch   18/44   train_loss = 0.909\n",
      "Epoch  48 Batch   28/44   train_loss = 0.857\n",
      "Epoch  48 Batch   38/44   train_loss = 0.892\n",
      "Epoch  49 Batch    4/44   train_loss = 0.863\n",
      "Epoch  49 Batch   14/44   train_loss = 0.820\n",
      "Epoch  49 Batch   24/44   train_loss = 0.828\n",
      "Epoch  49 Batch   34/44   train_loss = 0.849\n",
      "Epoch  50 Batch    0/44   train_loss = 0.838\n",
      "Epoch  50 Batch   10/44   train_loss = 0.879\n",
      "Epoch  50 Batch   20/44   train_loss = 0.837\n",
      "Epoch  50 Batch   30/44   train_loss = 0.796\n",
      "Epoch  50 Batch   40/44   train_loss = 0.798\n",
      "Epoch  51 Batch    6/44   train_loss = 0.824\n",
      "Epoch  51 Batch   16/44   train_loss = 0.825\n",
      "Epoch  51 Batch   26/44   train_loss = 0.842\n",
      "Epoch  51 Batch   36/44   train_loss = 0.900\n",
      "Epoch  52 Batch    2/44   train_loss = 0.843\n",
      "Epoch  52 Batch   12/44   train_loss = 0.843\n",
      "Epoch  52 Batch   22/44   train_loss = 0.820\n",
      "Epoch  52 Batch   32/44   train_loss = 0.792\n",
      "Epoch  52 Batch   42/44   train_loss = 0.778\n",
      "Epoch  53 Batch    8/44   train_loss = 0.768\n",
      "Epoch  53 Batch   18/44   train_loss = 0.795\n",
      "Epoch  53 Batch   28/44   train_loss = 0.732\n",
      "Epoch  53 Batch   38/44   train_loss = 0.797\n",
      "Epoch  54 Batch    4/44   train_loss = 0.771\n",
      "Epoch  54 Batch   14/44   train_loss = 0.734\n",
      "Epoch  54 Batch   24/44   train_loss = 0.715\n",
      "Epoch  54 Batch   34/44   train_loss = 0.756\n",
      "Epoch  55 Batch    0/44   train_loss = 0.714\n",
      "Epoch  55 Batch   10/44   train_loss = 0.740\n",
      "Epoch  55 Batch   20/44   train_loss = 0.724\n",
      "Epoch  55 Batch   30/44   train_loss = 0.670\n",
      "Epoch  55 Batch   40/44   train_loss = 0.694\n",
      "Epoch  56 Batch    6/44   train_loss = 0.713\n",
      "Epoch  56 Batch   16/44   train_loss = 0.712\n",
      "Epoch  56 Batch   26/44   train_loss = 0.707\n",
      "Epoch  56 Batch   36/44   train_loss = 0.764\n",
      "Epoch  57 Batch    2/44   train_loss = 0.717\n",
      "Epoch  57 Batch   12/44   train_loss = 0.737\n",
      "Epoch  57 Batch   22/44   train_loss = 0.724\n",
      "Epoch  57 Batch   32/44   train_loss = 0.685\n",
      "Epoch  57 Batch   42/44   train_loss = 0.659\n",
      "Epoch  58 Batch    8/44   train_loss = 0.634\n",
      "Epoch  58 Batch   18/44   train_loss = 0.683\n",
      "Epoch  58 Batch   28/44   train_loss = 0.635\n",
      "Epoch  58 Batch   38/44   train_loss = 0.694\n",
      "Epoch  59 Batch    4/44   train_loss = 0.650\n",
      "Epoch  59 Batch   14/44   train_loss = 0.629\n",
      "Epoch  59 Batch   24/44   train_loss = 0.614\n",
      "Epoch  59 Batch   34/44   train_loss = 0.652\n",
      "Epoch  60 Batch    0/44   train_loss = 0.638\n",
      "Epoch  60 Batch   10/44   train_loss = 0.641\n",
      "Epoch  60 Batch   20/44   train_loss = 0.639\n",
      "Epoch  60 Batch   30/44   train_loss = 0.581\n",
      "Epoch  60 Batch   40/44   train_loss = 0.616\n",
      "Epoch  61 Batch    6/44   train_loss = 0.610\n",
      "Epoch  61 Batch   16/44   train_loss = 0.627\n",
      "Epoch  61 Batch   26/44   train_loss = 0.628\n",
      "Epoch  61 Batch   36/44   train_loss = 0.671\n",
      "Epoch  62 Batch    2/44   train_loss = 0.651\n",
      "Epoch  62 Batch   12/44   train_loss = 0.641\n",
      "Epoch  62 Batch   22/44   train_loss = 0.657\n",
      "Epoch  62 Batch   32/44   train_loss = 0.568\n",
      "Epoch  62 Batch   42/44   train_loss = 0.589\n",
      "Epoch  63 Batch    8/44   train_loss = 0.562\n",
      "Epoch  63 Batch   18/44   train_loss = 0.614\n",
      "Epoch  63 Batch   28/44   train_loss = 0.570\n",
      "Epoch  63 Batch   38/44   train_loss = 0.601\n",
      "Epoch  64 Batch    4/44   train_loss = 0.597\n",
      "Epoch  64 Batch   14/44   train_loss = 0.578\n",
      "Epoch  64 Batch   24/44   train_loss = 0.553\n",
      "Epoch  64 Batch   34/44   train_loss = 0.585\n",
      "Epoch  65 Batch    0/44   train_loss = 0.584\n",
      "Epoch  65 Batch   10/44   train_loss = 0.565\n",
      "Epoch  65 Batch   20/44   train_loss = 0.595\n",
      "Epoch  65 Batch   30/44   train_loss = 0.516\n",
      "Epoch  65 Batch   40/44   train_loss = 0.538\n",
      "Epoch  66 Batch    6/44   train_loss = 0.562\n",
      "Epoch  66 Batch   16/44   train_loss = 0.561\n",
      "Epoch  66 Batch   26/44   train_loss = 0.590\n",
      "Epoch  66 Batch   36/44   train_loss = 0.605\n",
      "Epoch  67 Batch    2/44   train_loss = 0.603\n",
      "Epoch  67 Batch   12/44   train_loss = 0.559\n",
      "Epoch  67 Batch   22/44   train_loss = 0.599\n",
      "Epoch  67 Batch   32/44   train_loss = 0.526\n",
      "Epoch  67 Batch   42/44   train_loss = 0.533\n",
      "Epoch  68 Batch    8/44   train_loss = 0.517\n",
      "Epoch  68 Batch   18/44   train_loss = 0.539\n",
      "Epoch  68 Batch   28/44   train_loss = 0.531\n",
      "Epoch  68 Batch   38/44   train_loss = 0.539\n",
      "Epoch  69 Batch    4/44   train_loss = 0.535\n",
      "Epoch  69 Batch   14/44   train_loss = 0.492\n",
      "Epoch  69 Batch   24/44   train_loss = 0.485\n",
      "Epoch  69 Batch   34/44   train_loss = 0.521\n",
      "Epoch  70 Batch    0/44   train_loss = 0.509\n",
      "Epoch  70 Batch   10/44   train_loss = 0.518\n",
      "Epoch  70 Batch   20/44   train_loss = 0.507\n",
      "Epoch  70 Batch   30/44   train_loss = 0.484\n",
      "Epoch  70 Batch   40/44   train_loss = 0.479\n",
      "Epoch  71 Batch    6/44   train_loss = 0.496\n",
      "Epoch  71 Batch   16/44   train_loss = 0.496\n",
      "Epoch  71 Batch   26/44   train_loss = 0.517\n",
      "Epoch  71 Batch   36/44   train_loss = 0.547\n",
      "Epoch  72 Batch    2/44   train_loss = 0.520\n",
      "Epoch  72 Batch   12/44   train_loss = 0.501\n",
      "Epoch  72 Batch   22/44   train_loss = 0.496\n",
      "Epoch  72 Batch   32/44   train_loss = 0.453\n",
      "Epoch  72 Batch   42/44   train_loss = 0.459\n",
      "Epoch  73 Batch    8/44   train_loss = 0.453\n",
      "Epoch  73 Batch   18/44   train_loss = 0.487\n",
      "Epoch  73 Batch   28/44   train_loss = 0.463\n",
      "Epoch  73 Batch   38/44   train_loss = 0.486\n",
      "Epoch  74 Batch    4/44   train_loss = 0.455\n",
      "Epoch  74 Batch   14/44   train_loss = 0.451\n",
      "Epoch  74 Batch   24/44   train_loss = 0.426\n",
      "Epoch  74 Batch   34/44   train_loss = 0.469\n",
      "Epoch  75 Batch    0/44   train_loss = 0.456\n",
      "Epoch  75 Batch   10/44   train_loss = 0.460\n",
      "Epoch  75 Batch   20/44   train_loss = 0.464\n",
      "Epoch  75 Batch   30/44   train_loss = 0.417\n",
      "Epoch  75 Batch   40/44   train_loss = 0.430\n",
      "Epoch  76 Batch    6/44   train_loss = 0.441\n",
      "Epoch  76 Batch   16/44   train_loss = 0.436\n",
      "Epoch  76 Batch   26/44   train_loss = 0.462\n",
      "Epoch  76 Batch   36/44   train_loss = 0.475\n",
      "Epoch  77 Batch    2/44   train_loss = 0.467\n",
      "Epoch  77 Batch   12/44   train_loss = 0.447\n",
      "Epoch  77 Batch   22/44   train_loss = 0.465\n",
      "Epoch  77 Batch   32/44   train_loss = 0.402\n",
      "Epoch  77 Batch   42/44   train_loss = 0.427\n",
      "Epoch  78 Batch    8/44   train_loss = 0.415\n",
      "Epoch  78 Batch   18/44   train_loss = 0.446\n",
      "Epoch  78 Batch   28/44   train_loss = 0.420\n",
      "Epoch  78 Batch   38/44   train_loss = 0.421\n",
      "Epoch  79 Batch    4/44   train_loss = 0.425\n",
      "Epoch  79 Batch   14/44   train_loss = 0.401\n",
      "Epoch  79 Batch   24/44   train_loss = 0.402\n",
      "Epoch  79 Batch   34/44   train_loss = 0.419\n",
      "Epoch  80 Batch    0/44   train_loss = 0.408\n",
      "Epoch  80 Batch   10/44   train_loss = 0.421\n",
      "Epoch  80 Batch   20/44   train_loss = 0.442\n",
      "Epoch  80 Batch   30/44   train_loss = 0.397\n",
      "Epoch  80 Batch   40/44   train_loss = 0.382\n",
      "Epoch  81 Batch    6/44   train_loss = 0.417\n",
      "Epoch  81 Batch   16/44   train_loss = 0.394\n",
      "Epoch  81 Batch   26/44   train_loss = 0.435\n",
      "Epoch  81 Batch   36/44   train_loss = 0.444\n",
      "Epoch  82 Batch    2/44   train_loss = 0.449\n",
      "Epoch  82 Batch   12/44   train_loss = 0.411\n",
      "Epoch  82 Batch   22/44   train_loss = 0.434\n",
      "Epoch  82 Batch   32/44   train_loss = 0.381\n",
      "Epoch  82 Batch   42/44   train_loss = 0.362\n",
      "Epoch  83 Batch    8/44   train_loss = 0.410\n",
      "Epoch  83 Batch   18/44   train_loss = 0.402\n",
      "Epoch  83 Batch   28/44   train_loss = 0.409\n",
      "Epoch  83 Batch   38/44   train_loss = 0.400\n",
      "Epoch  84 Batch    4/44   train_loss = 0.400\n",
      "Epoch  84 Batch   14/44   train_loss = 0.390\n",
      "Epoch  84 Batch   24/44   train_loss = 0.391\n",
      "Epoch  84 Batch   34/44   train_loss = 0.418\n",
      "Epoch  85 Batch    0/44   train_loss = 0.376\n",
      "Epoch  85 Batch   10/44   train_loss = 0.420\n",
      "Epoch  85 Batch   20/44   train_loss = 0.387\n",
      "Epoch  85 Batch   30/44   train_loss = 0.408\n",
      "Epoch  85 Batch   40/44   train_loss = 0.359\n",
      "Epoch  86 Batch    6/44   train_loss = 0.401\n",
      "Epoch  86 Batch   16/44   train_loss = 0.376\n",
      "Epoch  86 Batch   26/44   train_loss = 0.408\n",
      "Epoch  86 Batch   36/44   train_loss = 0.446\n",
      "Epoch  87 Batch    2/44   train_loss = 0.402\n",
      "Epoch  87 Batch   12/44   train_loss = 0.411\n",
      "Epoch  87 Batch   22/44   train_loss = 0.398\n",
      "Epoch  87 Batch   32/44   train_loss = 0.380\n",
      "Epoch  87 Batch   42/44   train_loss = 0.355\n",
      "Epoch  88 Batch    8/44   train_loss = 0.387\n",
      "Epoch  88 Batch   18/44   train_loss = 0.397\n",
      "Epoch  88 Batch   28/44   train_loss = 0.378\n",
      "Epoch  88 Batch   38/44   train_loss = 0.387\n",
      "Epoch  89 Batch    4/44   train_loss = 0.368\n",
      "Epoch  89 Batch   14/44   train_loss = 0.387\n",
      "Epoch  89 Batch   24/44   train_loss = 0.347\n",
      "Epoch  89 Batch   34/44   train_loss = 0.420\n",
      "Epoch  90 Batch    0/44   train_loss = 0.363\n",
      "Epoch  90 Batch   10/44   train_loss = 0.383\n",
      "Epoch  90 Batch   20/44   train_loss = 0.372\n",
      "Epoch  90 Batch   30/44   train_loss = 0.357\n",
      "Epoch  90 Batch   40/44   train_loss = 0.350\n",
      "Epoch  91 Batch    6/44   train_loss = 0.366\n",
      "Epoch  91 Batch   16/44   train_loss = 0.366\n",
      "Epoch  91 Batch   26/44   train_loss = 0.388\n",
      "Epoch  91 Batch   36/44   train_loss = 0.403\n",
      "Epoch  92 Batch    2/44   train_loss = 0.376\n",
      "Epoch  92 Batch   12/44   train_loss = 0.374\n",
      "Epoch  92 Batch   22/44   train_loss = 0.386\n",
      "Epoch  92 Batch   32/44   train_loss = 0.343\n",
      "Epoch  92 Batch   42/44   train_loss = 0.344\n",
      "Epoch  93 Batch    8/44   train_loss = 0.364\n",
      "Epoch  93 Batch   18/44   train_loss = 0.378\n",
      "Epoch  93 Batch   28/44   train_loss = 0.349\n",
      "Epoch  93 Batch   38/44   train_loss = 0.365\n",
      "Epoch  94 Batch    4/44   train_loss = 0.347\n",
      "Epoch  94 Batch   14/44   train_loss = 0.359\n",
      "Epoch  94 Batch   24/44   train_loss = 0.337\n",
      "Epoch  94 Batch   34/44   train_loss = 0.374\n",
      "Epoch  95 Batch    0/44   train_loss = 0.334\n",
      "Epoch  95 Batch   10/44   train_loss = 0.357\n",
      "Epoch  95 Batch   20/44   train_loss = 0.350\n",
      "Epoch  95 Batch   30/44   train_loss = 0.337\n",
      "Epoch  95 Batch   40/44   train_loss = 0.314\n",
      "Epoch  96 Batch    6/44   train_loss = 0.348\n",
      "Epoch  96 Batch   16/44   train_loss = 0.344\n",
      "Epoch  96 Batch   26/44   train_loss = 0.362\n",
      "Epoch  96 Batch   36/44   train_loss = 0.378\n",
      "Epoch  97 Batch    2/44   train_loss = 0.351\n",
      "Epoch  97 Batch   12/44   train_loss = 0.345\n",
      "Epoch  97 Batch   22/44   train_loss = 0.363\n",
      "Epoch  97 Batch   32/44   train_loss = 0.319\n",
      "Epoch  97 Batch   42/44   train_loss = 0.321\n",
      "Epoch  98 Batch    8/44   train_loss = 0.333\n",
      "Epoch  98 Batch   18/44   train_loss = 0.344\n",
      "Epoch  98 Batch   28/44   train_loss = 0.336\n",
      "Epoch  98 Batch   38/44   train_loss = 0.343\n",
      "Epoch  99 Batch    4/44   train_loss = 0.331\n",
      "Epoch  99 Batch   14/44   train_loss = 0.340\n",
      "Epoch  99 Batch   24/44   train_loss = 0.313\n",
      "Epoch  99 Batch   34/44   train_loss = 0.348\n",
      "Model Trained and Saved\n"
     ]
    }
   ],
   "source": [
    "\"\"\"\n",
    "DON'T MODIFY ANYTHING IN THIS CELL\n",
    "\"\"\"\n",
    "batches = get_batches(int_text, batch_size, seq_length)\n",
    "\n",
    "with tf.Session(graph=train_graph) as sess:\n",
    "    sess.run(tf.global_variables_initializer())\n",
    "\n",
    "    for epoch_i in range(num_epochs):\n",
    "        state = sess.run(initial_state, {input_text: batches[0][0]})\n",
    "\n",
    "        for batch_i, (x, y) in enumerate(batches):\n",
    "            feed = {\n",
    "                input_text: x,\n",
    "                targets: y,\n",
    "                initial_state: state,\n",
    "                lr: learning_rate}\n",
    "            train_loss, state, _ = sess.run([cost, final_state, train_op], feed)\n",
    "\n",
    "            # Show every <show_every_n_batches> batches\n",
    "            if (epoch_i * len(batches) + batch_i) % show_every_n_batches == 0:\n",
    "                print('Epoch {:>3} Batch {:>4}/{}   train_loss = {:.3f}'.format(\n",
    "                    epoch_i,\n",
    "                    batch_i,\n",
    "                    len(batches),\n",
    "                    train_loss))\n",
    "\n",
    "    # Save Model\n",
    "    saver = tf.train.Saver()\n",
    "    saver.save(sess, save_dir)\n",
    "    print('Model Trained and Saved')"
   ]
  },
  {
   "cell_type": "markdown",
   "metadata": {
    "deletable": true,
    "editable": true
   },
   "source": [
    "## Save Parameters\n",
    "Save `seq_length` and `save_dir` for generating a new TV script."
   ]
  },
  {
   "cell_type": "code",
   "execution_count": 195,
   "metadata": {
    "collapsed": false,
    "deletable": true,
    "editable": true
   },
   "outputs": [],
   "source": [
    "\"\"\"\n",
    "DON'T MODIFY ANYTHING IN THIS CELL\n",
    "\"\"\"\n",
    "# Save parameters for checkpoint\n",
    "helper.save_params((seq_length, save_dir))"
   ]
  },
  {
   "cell_type": "markdown",
   "metadata": {
    "deletable": true,
    "editable": true
   },
   "source": [
    "# Checkpoint"
   ]
  },
  {
   "cell_type": "code",
   "execution_count": 196,
   "metadata": {
    "collapsed": false,
    "deletable": true,
    "editable": true
   },
   "outputs": [],
   "source": [
    "\"\"\"\n",
    "DON'T MODIFY ANYTHING IN THIS CELL\n",
    "\"\"\"\n",
    "import tensorflow as tf\n",
    "import numpy as np\n",
    "import helper\n",
    "import problem_unittests as tests\n",
    "\n",
    "_, vocab_to_int, int_to_vocab, token_dict = helper.load_preprocess()\n",
    "seq_length, load_dir = helper.load_params()"
   ]
  },
  {
   "cell_type": "markdown",
   "metadata": {
    "deletable": true,
    "editable": true
   },
   "source": [
    "## Implement Generate Functions\n",
    "### Get Tensors\n",
    "Get tensors from `loaded_graph` using the function [`get_tensor_by_name()`](https://www.tensorflow.org/api_docs/python/tf/Graph#get_tensor_by_name).  Get the tensors using the following names:\n",
    "- \"input:0\"\n",
    "- \"initial_state:0\"\n",
    "- \"final_state:0\"\n",
    "- \"probs:0\"\n",
    "\n",
    "Return the tensors in the following tuple `(InputTensor, InitialStateTensor, FinalStateTensor, ProbsTensor)` "
   ]
  },
  {
   "cell_type": "code",
   "execution_count": 202,
   "metadata": {
    "collapsed": false,
    "deletable": true,
    "editable": true
   },
   "outputs": [
    {
     "name": "stdout",
     "output_type": "stream",
     "text": [
      "Tests Passed\n"
     ]
    }
   ],
   "source": [
    "def get_tensors(loaded_graph):\n",
    "    \"\"\"\n",
    "    Get input, initial state, final state, and probabilities tensor from <loaded_graph>\n",
    "    :param loaded_graph: TensorFlow graph loaded from file\n",
    "    :return: Tuple (InputTensor, InitialStateTensor, FinalStateTensor, ProbsTensor)\n",
    "    \"\"\"\n",
    "    # TODO: Implement Function\n",
    "    input_tensor = loaded_graph.get_tensor_by_name(\"input:0\")\n",
    "    initial_state_tensor = loaded_graph.get_tensor_by_name(\"initial_state:0\")\n",
    "    final_state_tensor = loaded_graph.get_tensor_by_name(\"final_state:0\")\n",
    "    probs_tensor = loaded_graph.get_tensor_by_name(\"probs:0\")\n",
    "    return (input_tensor,initial_state_tensor,final_state_tensor,probs_tensor)\n",
    "\n",
    "\n",
    "\"\"\"\n",
    "DON'T MODIFY ANYTHING IN THIS CELL THAT IS BELOW THIS LINE\n",
    "\"\"\"\n",
    "tests.test_get_tensors(get_tensors)"
   ]
  },
  {
   "cell_type": "markdown",
   "metadata": {
    "deletable": true,
    "editable": true
   },
   "source": [
    "### Choose Word\n",
    "Implement the `pick_word()` function to select the next word using `probabilities`."
   ]
  },
  {
   "cell_type": "code",
   "execution_count": 203,
   "metadata": {
    "collapsed": false
   },
   "outputs": [
    {
     "name": "stdout",
     "output_type": "stream",
     "text": [
      "0.8354644288646144\n"
     ]
    }
   ],
   "source": [
    "print(np.random.rand())"
   ]
  },
  {
   "cell_type": "code",
   "execution_count": 204,
   "metadata": {
    "collapsed": false,
    "deletable": true,
    "editable": true
   },
   "outputs": [
    {
     "name": "stdout",
     "output_type": "stream",
     "text": [
      "Tests Passed\n"
     ]
    }
   ],
   "source": [
    "def pick_word(probabilities, int_to_vocab):\n",
    "    \"\"\"\n",
    "    Pick the next word in the generated text\n",
    "    :param probabilities: Probabilites of the next word\n",
    "    :param int_to_vocab: Dictionary of word ids as the keys and words as the values\n",
    "    :return: String of the predicted word\n",
    "    \"\"\"\n",
    "    # TODO: Implement Function\n",
    "    #assuming that the probabilities are normalized and sum to 1\n",
    "    #assuming that the probabilities are in same order as int_to_vocab\n",
    "    rand_float = np.random.rand()\n",
    "    temp_float = 0.0\n",
    "    for x in range(len(probabilities)):\n",
    "        temp_float += probabilities[x]\n",
    "        if temp_float >= rand_float:\n",
    "            return int_to_vocab[x]\n",
    "            \n",
    "    return None\n",
    "\n",
    "\n",
    "\"\"\"\n",
    "DON'T MODIFY ANYTHING IN THIS CELL THAT IS BELOW THIS LINE\n",
    "\"\"\"\n",
    "tests.test_pick_word(pick_word)"
   ]
  },
  {
   "cell_type": "markdown",
   "metadata": {
    "deletable": true,
    "editable": true
   },
   "source": [
    "## Generate TV Script\n",
    "This will generate the TV script for you.  Set `gen_length` to the length of TV script you want to generate."
   ]
  },
  {
   "cell_type": "code",
   "execution_count": 205,
   "metadata": {
    "collapsed": false,
    "deletable": true,
    "editable": true
   },
   "outputs": [
    {
     "name": "stdout",
     "output_type": "stream",
     "text": [
      "INFO:tensorflow:Restoring parameters from ./save\n",
      "moe_szyslak:(genuinely enthused) do i?!\n",
      "moe_szyslak:(laughs) yeah, you know, you heard the keys!\n",
      "moe_szyslak: yeah. have your uh, don't worry.\" i'm gonna stay.\n",
      "\n",
      "\n",
      "mrs. : top will be spinning in jail.(more secret)\n",
      "homer_simpson: well, i got these free tickets to santa's village.\n",
      "lenny_leonard: we could write on his wedding!\n",
      "carl_carlson: he's wonderful. it's our friend.\n",
      "moe_szyslak: ow!\n",
      "homer_simpson: moe's tavern.\n",
      "\n",
      "\n",
      "moe_szyslak: hey, hey, ya mugs. thinkin' ain't drinkin' beer to drive 'em up.\n",
      "\n",
      "\n",
      "moe_szyslak: before you go.\n",
      "\n",
      "\n",
      "moe_szyslak: whoa, whoa, whoa!\n",
      "marge_simpson: it is it. hey, you're an idiot. goodnight beer. and found his wife was in.\n",
      "lenny_leonard: we say acquaintance.\n",
      "moe_szyslak: look, i, i'm really glad we're doing. you ain't no matter how to uh...\n",
      "homer_simpson:(to self, happily) just uh, don't worry. there's this\n"
     ]
    }
   ],
   "source": [
    "gen_length = 200\n",
    "# homer_simpson, moe_szyslak, or Barney_Gumble\n",
    "prime_word = 'moe_szyslak'\n",
    "\n",
    "\"\"\"\n",
    "DON'T MODIFY ANYTHING IN THIS CELL THAT IS BELOW THIS LINE\n",
    "\"\"\"\n",
    "loaded_graph = tf.Graph()\n",
    "with tf.Session(graph=loaded_graph) as sess:\n",
    "    # Load saved model\n",
    "    loader = tf.train.import_meta_graph(load_dir + '.meta')\n",
    "    loader.restore(sess, load_dir)\n",
    "\n",
    "    # Get Tensors from loaded model\n",
    "    input_text, initial_state, final_state, probs = get_tensors(loaded_graph)\n",
    "\n",
    "    # Sentences generation setup\n",
    "    gen_sentences = [prime_word + ':']\n",
    "    prev_state = sess.run(initial_state, {input_text: np.array([[1]])})\n",
    "\n",
    "    # Generate sentences\n",
    "    for n in range(gen_length):\n",
    "        # Dynamic Input\n",
    "        dyn_input = [[vocab_to_int[word] for word in gen_sentences[-seq_length:]]]\n",
    "        dyn_seq_length = len(dyn_input[0])\n",
    "\n",
    "        # Get Prediction\n",
    "        probabilities, prev_state = sess.run(\n",
    "            [probs, final_state],\n",
    "            {input_text: dyn_input, initial_state: prev_state})\n",
    "        \n",
    "        pred_word = pick_word(probabilities[dyn_seq_length-1], int_to_vocab)\n",
    "\n",
    "        gen_sentences.append(pred_word)\n",
    "    \n",
    "    # Remove tokens\n",
    "    tv_script = ' '.join(gen_sentences)\n",
    "    for key, token in token_dict.items():\n",
    "        ending = ' ' if key in ['\\n', '(', '\"'] else ''\n",
    "        tv_script = tv_script.replace(' ' + token.lower(), key)\n",
    "    tv_script = tv_script.replace('\\n ', '\\n')\n",
    "    tv_script = tv_script.replace('( ', '(')\n",
    "        \n",
    "    print(tv_script)"
   ]
  },
  {
   "cell_type": "markdown",
   "metadata": {
    "deletable": true,
    "editable": true
   },
   "source": [
    "# The TV Script is Nonsensical\n",
    "It's ok if the TV script doesn't make any sense.  We trained on less than a megabyte of text.  In order to get good results, you'll have to use a smaller vocabulary or get more data.  Luckly there's more data!  As we mentioned in the begging of this project, this is a subset of [another dataset](https://www.kaggle.com/wcukierski/the-simpsons-by-the-data).  We didn't have you train on all the data, because that would take too long.  However, you are free to train your neural network on all the data.  After you complete the project, of course.\n",
    "# Submitting This Project\n",
    "When submitting this project, make sure to run all the cells before saving the notebook. Save the notebook file as \"dlnd_tv_script_generation.ipynb\" and save it as a HTML file under \"File\" -> \"Download as\". Include the \"helper.py\" and \"problem_unittests.py\" files in your submission."
   ]
  }
 ],
 "metadata": {
  "anaconda-cloud": {},
  "kernelspec": {
   "display_name": "Python [default]",
   "language": "python",
   "name": "python3"
  },
  "language_info": {
   "codemirror_mode": {
    "name": "ipython",
    "version": 3
   },
   "file_extension": ".py",
   "mimetype": "text/x-python",
   "name": "python",
   "nbconvert_exporter": "python",
   "pygments_lexer": "ipython3",
   "version": "3.5.2"
  }
 },
 "nbformat": 4,
 "nbformat_minor": 0
}
